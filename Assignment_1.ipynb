{
 "cells": [
  {
   "cell_type": "code",
   "execution_count": 86,
   "metadata": {
    "collapsed": true
   },
   "outputs": [],
   "source": [
    "import pandas as pd\n",
    "import numpy as np\n",
    "import matplotlib.pyplot as plt"
   ]
  },
  {
   "cell_type": "code",
   "execution_count": 157,
   "metadata": {
    "collapsed": false
   },
   "outputs": [],
   "source": [
    "unames = ['user_id', 'gender', 'age', 'occupation', 'zip']\n",
    "users = pd.read_table('ml-1m/users.dat', sep='::', header=None, names=unames, engine='python')\n",
    "\n",
    "rnames = ['user_id', 'movie_id', 'rating', 'timestamp']\n",
    "ratings = pd.read_table('ml-1m/ratings.dat', sep='::', header=None, names=rnames, engine='python')\n",
    "\n",
    "mnames = ['movie_id', 'title', 'genres']\n",
    "movies = pd.read_table('ml-1m/movies.dat', sep='::', header=None, names=mnames, engine='python')\n",
    "\n",
    "data = pd.merge(pd.merge(ratings, users), movies)"
   ]
  },
  {
   "cell_type": "code",
   "execution_count": 158,
   "metadata": {
    "collapsed": false
   },
   "outputs": [
    {
     "data": {
      "text/plain": [
       "genres\n",
       "Action                                           3.354886\n",
       "Action|Adventure                                 3.676814\n",
       "Action|Adventure|Animation                       4.147826\n",
       "Action|Adventure|Animation|Children's|Fantasy    2.703704\n",
       "Action|Adventure|Animation|Horror|Sci-Fi         3.546926\n",
       "Action|Adventure|Children's                      1.318182\n",
       "Action|Adventure|Children's|Comedy               2.306950\n",
       "Action|Adventure|Children's|Fantasy              2.090909\n",
       "Action|Adventure|Children's|Sci-Fi               1.874286\n",
       "Action|Adventure|Comedy                          3.095330\n",
       "Action|Adventure|Comedy|Crime                    3.137194\n",
       "Action|Adventure|Comedy|Horror                   3.826642\n",
       "Action|Adventure|Comedy|Horror|Sci-Fi            3.804233\n",
       "Action|Adventure|Comedy|Romance                  3.862448\n",
       "Action|Adventure|Comedy|Sci-Fi                   3.739953\n",
       "Action|Adventure|Comedy|War                      2.276995\n",
       "Action|Adventure|Crime                           2.925349\n",
       "Action|Adventure|Crime|Drama                     3.600978\n",
       "Action|Adventure|Crime|Thriller                  2.782407\n",
       "Action|Adventure|Drama                           3.269629\n",
       "Action|Adventure|Drama|Romance                   2.950276\n",
       "Action|Adventure|Drama|Sci-Fi|War                4.292977\n",
       "Action|Adventure|Drama|Thriller                  3.422886\n",
       "Action|Adventure|Fantasy                         3.220211\n",
       "Action|Adventure|Fantasy|Sci-Fi                  3.904041\n",
       "Action|Adventure|Horror                          3.378364\n",
       "Action|Adventure|Horror|Thriller                 3.321748\n",
       "Action|Adventure|Mystery                         3.424449\n",
       "Action|Adventure|Mystery|Sci-Fi                  2.238938\n",
       "Action|Adventure|Romance                         3.418955\n",
       "                                                   ...   \n",
       "Film-Noir|Sci-Fi                                 4.273333\n",
       "Film-Noir|Sci-Fi|Thriller                        3.822654\n",
       "Film-Noir|Thriller                               4.206757\n",
       "Horror                                           3.071932\n",
       "Horror|Mystery                                   2.745098\n",
       "Horror|Mystery|Thriller                          2.911619\n",
       "Horror|Romance                                   3.457368\n",
       "Horror|Sci-Fi                                    3.056601\n",
       "Horror|Sci-Fi|Thriller                           2.726729\n",
       "Horror|Thriller                                  3.200370\n",
       "Musical                                          3.797259\n",
       "Musical|Romance                                  3.946822\n",
       "Musical|Romance|War                              3.614286\n",
       "Musical|War                                      3.902935\n",
       "Mystery                                          3.785959\n",
       "Mystery|Romance|Thriller                         3.609424\n",
       "Mystery|Sci-Fi                                   3.438697\n",
       "Mystery|Sci-Fi|Thriller                          3.492972\n",
       "Mystery|Thriller                                 3.891449\n",
       "Romance                                          3.390948\n",
       "Romance|Thriller                                 3.875445\n",
       "Romance|War                                      3.384615\n",
       "Romance|Western                                  3.650794\n",
       "Sci-Fi                                           3.593548\n",
       "Sci-Fi|Thriller                                  3.028073\n",
       "Sci-Fi|Thriller|War                              3.439286\n",
       "Sci-Fi|War                                       4.449890\n",
       "Thriller                                         3.555879\n",
       "War                                              3.889001\n",
       "Western                                          3.853226\n",
       "Name: rating, dtype: float64"
      ]
     },
     "execution_count": 158,
     "metadata": {},
     "output_type": "execute_result"
    }
   ],
   "source": [
    "#1. An aggregate of the movie ratings for each particular genre.\n",
    "mean_ratings = data.pivot_table('rating', index='genres', aggfunc='mean')\n",
    "mean_ratings"
   ]
  },
  {
   "cell_type": "code",
   "execution_count": 159,
   "metadata": {
    "collapsed": false
   },
   "outputs": [
    {
     "data": {
      "text/plain": [
       "genres\n",
       "Animation|Comedy|Thriller             4.550802\n",
       "Animation                             4.533333\n",
       "Film-Noir|Romance|Thriller            4.448718\n",
       "Sci-Fi|War                            4.376623\n",
       "Adventure|Children's|Drama|Musical    4.355030\n",
       "Name: F, dtype: float64"
      ]
     },
     "execution_count": 159,
     "metadata": {},
     "output_type": "execute_result"
    }
   ],
   "source": [
    "#2. The top 5 highest ranked genre by women.\n",
    "mean_ratings2 = data.pivot_table('rating', index='genres', columns='gender', aggfunc='mean')\n",
    "top_female_ratings = mean_ratings2['F'].sort_values(ascending=False)[:5]\n",
    "top_female_ratings"
   ]
  },
  {
   "cell_type": "code",
   "execution_count": 160,
   "metadata": {
    "collapsed": false
   },
   "outputs": [
    {
     "data": {
      "text/plain": [
       "genres\n",
       "Sci-Fi|War                   4.464789\n",
       "Animation|Comedy|Thriller    4.445110\n",
       "Film-Noir|Mystery            4.381536\n",
       "Adventure|War                4.376633\n",
       "Animation                    4.353107\n",
       "Name: M, dtype: float64"
      ]
     },
     "execution_count": 160,
     "metadata": {},
     "output_type": "execute_result"
    }
   ],
   "source": [
    "#3. The top 5 highest ranked genre by men.\n",
    "top_male_ratings = mean_ratings2['M'].sort_values(ascending=False)[:5]\n",
    "top_male_ratings"
   ]
  },
  {
   "cell_type": "code",
   "execution_count": 161,
   "metadata": {
    "collapsed": false
   },
   "outputs": [
    {
     "data": {
      "text/plain": [
       "age_group\n",
       "0-9      4.471698\n",
       "10-19    4.505495\n",
       "20-29    4.574051\n",
       "30-39    4.541935\n",
       "40-49    4.357843\n",
       "50-59    4.512500\n",
       "60-69         NaN\n",
       "70-79         NaN\n",
       "Name: Godfather, The (1972), dtype: float64"
      ]
     },
     "execution_count": 161,
     "metadata": {},
     "output_type": "execute_result"
    }
   ],
   "source": [
    "#4. A breakdown of a movie’s ratings by age, use any movie of your choice.\n",
    "labels = ['0-9', '10-19', '20-29', '30-39', '40-49', '50-59', '60-69', '70-79']\n",
    "data['age_group'] = pd.cut(data.age, range(0, 81, 10), right=False, labels=labels)\n",
    "data[['age', 'age_group']].drop_duplicates()[:10]\n",
    "\n",
    "rating_age = data.pivot_table('rating', index='title', columns='age_group', aggfunc='mean')\n",
    "God_Father_Rating_Age = rating_age.loc['Godfather, The (1972)']\n",
    "God_Father_Rating_Age"
   ]
  },
  {
   "cell_type": "code",
   "execution_count": 168,
   "metadata": {
    "collapsed": false,
    "scrolled": true
   },
   "outputs": [
    {
     "name": "stdout",
     "output_type": "stream",
     "text": [
      "0          1\n",
      "1          2\n",
      "4         17\n",
      "6         19\n",
      "7         24\n",
      "9         33\n",
      "10        39\n",
      "16        53\n",
      "17        54\n",
      "18        58\n",
      "22        81\n",
      "23        88\n",
      "24        89\n",
      "25        95\n",
      "28       102\n",
      "30       107\n",
      "32       120\n",
      "33       123\n",
      "34       131\n",
      "38       150\n",
      "40       155\n",
      "41       166\n",
      "42       169\n",
      "43       175\n",
      "45       180\n",
      "46       190\n",
      "49       195\n",
      "53       208\n",
      "60       235\n",
      "61       236\n",
      "        ... \n",
      "1668    5859\n",
      "1669    5865\n",
      "1670    5868\n",
      "1674    5888\n",
      "1676    5890\n",
      "1682    5911\n",
      "1684    5917\n",
      "1685    5920\n",
      "1687    5924\n",
      "1690    5942\n",
      "1693    5948\n",
      "1694    5949\n",
      "1695    5950\n",
      "1697    5954\n",
      "1698    5956\n",
      "1699    5958\n",
      "1700    5962\n",
      "1701    5964\n",
      "1702    5965\n",
      "1706    5975\n",
      "1708    5977\n",
      "1709    5978\n",
      "1712    5986\n",
      "1714    6001\n",
      "1715    6002\n",
      "1718    6021\n",
      "1719    6032\n",
      "1720    6033\n",
      "1721    6035\n",
      "1722    6036\n",
      "Name: user_id, dtype: int64\n"
     ]
    }
   ],
   "source": [
    "#5. A function that given a user_id and movie_id , returns a list of user_ids for other users that rated the movie identified by the provided movie_id with the same score.\n",
    "def Users_with_Same_Rating(u_id, m_id):\n",
    "    movies = data.loc[data['movie_id'] == m_id]\n",
    "    user_movie = movies.loc[movies['user_id'] == u_id]\n",
    "    user_movie_rating = user_movie['rating'].loc[0]\n",
    "    find_movie = data.loc[data['rating'] == user_movie_rating]\n",
    "    find_user = find_movie.loc[find_movie['movie_id'] == m_id]\n",
    "    print(find_user['user_id'])\n",
    "\n",
    "#Example: \n",
    "Users_with_Same_Rating(1, 1193)"
   ]
  },
  {
   "cell_type": "code",
   "execution_count": 175,
   "metadata": {
    "collapsed": false
   },
   "outputs": [
    {
     "data": {
      "image/png": "[encoded data removed]",
      "text/plain": [
       "<matplotlib.figure.Figure at 0x1b5d4405dd8>"
      ]
     },
     "metadata": {},
     "output_type": "display_data"
    }
   ],
   "source": [
    "# 6. Some other statistic, figure, data aggregate, or plot that you created using this dataset, along with a short description of what interesting observations you derived from it.\n",
    "age_and_rating = data.groupby('age_group').agg({'rating': [np.mean]})\n",
    "age_and_mean_rating = age_and_rating['rating']\n",
    "age_and_mean_rating\n",
    "\n",
    "age_and_mean_rating.plot()\n",
    "plt.show()"
   ]
  },
  {
   "cell_type": "code",
   "execution_count": null,
   "metadata": {
    "collapsed": false
   },
   "outputs": [],
   "source": [
    "# We can see from this plot that the average rating is increasing when the age is increasing despite 0-9 age group.\n",
    "# It's reasonable that 0-9 age group will give high ratings because they are too young to make a fully advisable rating.\n",
    "# We can draw the conclusion that young people have more strict standard than older people. "
   ]
  },
  {
   "cell_type": "code",
   "execution_count": null,
   "metadata": {
    "collapsed": true
   },
   "outputs": [],
   "source": []
  }
 ],
 "metadata": {
  "anaconda-cloud": {},
  "kernelspec": {
   "display_name": "Python [default]",
   "language": "python",
   "name": "python3"
  },
  "language_info": {
   "codemirror_mode": {
    "name": "ipython",
    "version": 3
   },
   "file_extension": ".py",
   "mimetype": "text/x-python",
   "name": "python",
   "nbconvert_exporter": "python",
   "pygments_lexer": "ipython3",
   "version": "3.5.2"
  }
 },
 "nbformat": 4,
 "nbformat_minor": 1
}
